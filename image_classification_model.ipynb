{
  "nbformat": 4,
  "nbformat_minor": 0,
  "metadata": {
    "colab": {
      "provenance": [],
      "mount_file_id": "18_yrw8eGSFyVJRHJ4qns5n4EaYhngB8j",
      "authorship_tag": "ABX9TyNjEHVzbL7LcDqxqTM0C6gv",
      "include_colab_link": true
    },
    "kernelspec": {
      "name": "python3",
      "display_name": "Python 3"
    },
    "language_info": {
      "name": "python"
    }
  },
  "cells": [
    {
      "cell_type": "markdown",
      "metadata": {
        "id": "view-in-github",
        "colab_type": "text"
      },
      "source": [
        "<a href=\"https://colab.research.google.com/github/shiivaniiiii/sweeet__recognition/blob/main/image_classification_model.ipynb\" target=\"_parent\"><img src=\"https://colab.research.google.com/assets/colab-badge.svg\" alt=\"Open In Colab\"/></a>"
      ]
    },
    {
      "cell_type": "markdown",
      "source": [
        "# Importing Dataset"
      ],
      "metadata": {
        "id": "spXo3CItjPe9"
      }
    },
    {
      "cell_type": "code",
      "execution_count": 2,
      "metadata": {
        "colab": {
          "base_uri": "https://localhost:8080/"
        },
        "id": "VFYYcgIZjOVg",
        "outputId": "ca1e6ca9-bb98-4ab9-a467-210ba85a230d"
      },
      "outputs": [
        {
          "output_type": "stream",
          "name": "stdout",
          "text": [
            "Drive already mounted at /content/drive; to attempt to forcibly remount, call drive.mount(\"/content/drive\", force_remount=True).\n"
          ]
        }
      ],
      "source": [
        "from google.colab import drive\n",
        "drive.mount('/content/drive')"
      ]
    },
    {
      "cell_type": "markdown",
      "source": [
        "# Importing Libraries"
      ],
      "metadata": {
        "id": "68_2Le8xpaXy"
      }
    },
    {
      "cell_type": "code",
      "source": [
        "import numpy as np\n",
        "import tensorflow as tf\n",
        "import matplotlib.pyplot as plt"
      ],
      "metadata": {
        "id": "72RJ-p59pfPn"
      },
      "execution_count": 3,
      "outputs": []
    },
    {
      "cell_type": "markdown",
      "source": [
        "# Data Preprocessing"
      ],
      "metadata": {
        "id": "frf_hLnUpuQS"
      }
    },
    {
      "cell_type": "markdown",
      "source": [
        "#Training Image Preprocessing"
      ],
      "metadata": {
        "id": "L40lCpdAqk_l"
      }
    },
    {
      "cell_type": "code",
      "source": [
        "training_set = tf.keras.utils.image_dataset_from_directory(\n",
        "    '/content/drive/MyDrive/sweet_recognition/train',\n",
        "    labels = 'inferred',\n",
        "    label_mode = 'categorical',\n",
        "    class_names = None,\n",
        "    color_mode= 'rgb',\n",
        "    batch_size = 32,\n",
        "    image_size = (64,64),\n",
        "    shuffle = True,\n",
        "    seed = None,\n",
        "    validation_split = None,\n",
        "    subset =None,\n",
        "    interpolation = 'bilinear',\n",
        "    follow_links = False,\n",
        "    crop_to_aspect_ratio = False\n",
        ")"
      ],
      "metadata": {
        "colab": {
          "base_uri": "https://localhost:8080/"
        },
        "id": "FWHoskyjqo8h",
        "outputId": "95fa1454-f74d-4f65-d51a-685ef9307656"
      },
      "execution_count": 4,
      "outputs": [
        {
          "output_type": "stream",
          "name": "stdout",
          "text": [
            "Found 250 files belonging to 10 classes.\n"
          ]
        }
      ]
    },
    {
      "cell_type": "markdown",
      "source": [
        "#Validation Image Preprocessing"
      ],
      "metadata": {
        "id": "aU_1DmBCuiz8"
      }
    },
    {
      "cell_type": "code",
      "source": [
        "validation_set = tf.keras.utils.image_dataset_from_directory(\n",
        "    '/content/drive/MyDrive/sweet_recognition/validation',\n",
        "    labels = 'inferred',\n",
        "    label_mode = 'categorical',\n",
        "    class_names = None,\n",
        "    color_mode= 'rgb',\n",
        "    batch_size = 32,\n",
        "    image_size = (64,64),\n",
        "    shuffle = True,\n",
        "    seed = None,\n",
        "    validation_split = None,\n",
        "    subset =None,\n",
        "    interpolation = 'bilinear',\n",
        "    follow_links = False,\n",
        "    crop_to_aspect_ratio = False\n",
        ")"
      ],
      "metadata": {
        "colab": {
          "base_uri": "https://localhost:8080/"
        },
        "id": "r8xJFJQTurSQ",
        "outputId": "cce270b4-e0da-43fd-cb2f-e18e28231532"
      },
      "execution_count": 5,
      "outputs": [
        {
          "output_type": "stream",
          "name": "stdout",
          "text": [
            "Found 200 files belonging to 10 classes.\n"
          ]
        }
      ]
    },
    {
      "cell_type": "markdown",
      "source": [
        "# Building Model"
      ],
      "metadata": {
        "id": "5G1EyjP1vVX4"
      }
    },
    {
      "cell_type": "code",
      "source": [
        "cnn = tf.keras.models.Sequential()"
      ],
      "metadata": {
        "id": "Mxj_Y8ogv_Q7"
      },
      "execution_count": 6,
      "outputs": []
    },
    {
      "cell_type": "markdown",
      "source": [
        "#Building Convolution Layer"
      ],
      "metadata": {
        "id": "MBe4hXQbwscr"
      }
    },
    {
      "cell_type": "code",
      "source": [
        "cnn.add(tf.keras.layers.Conv2D(filters= 64, kernel_size =3,activation='relu', input_shape=[64,64,3]))\n",
        "cnn.add(tf.keras.layers.MaxPool2D(pool_size=2,strides=2))"
      ],
      "metadata": {
        "id": "DulWTM4hwwfP"
      },
      "execution_count": 7,
      "outputs": []
    },
    {
      "cell_type": "code",
      "source": [
        "cnn.add(tf.keras.layers.Conv2D(filters= 64, kernel_size =3,activation='relu'))\n",
        "cnn.add(tf.keras.layers.MaxPool2D(pool_size=2,strides=2))"
      ],
      "metadata": {
        "id": "BEMJcWu4x4mc"
      },
      "execution_count": 8,
      "outputs": []
    },
    {
      "cell_type": "code",
      "source": [
        "cnn.add(tf.keras.layers.Dropout(0.5))  # to avoid overfitting"
      ],
      "metadata": {
        "id": "hkGb0t8syGNI"
      },
      "execution_count": 9,
      "outputs": []
    },
    {
      "cell_type": "code",
      "source": [
        "cnn.add(tf.keras.layers.Flatten())"
      ],
      "metadata": {
        "id": "VNplkglryXJr"
      },
      "execution_count": 10,
      "outputs": []
    },
    {
      "cell_type": "code",
      "source": [
        "cnn.add(tf.keras.layers.Dense(units=128,activation= 'relu'))"
      ],
      "metadata": {
        "id": "G6hTXeZuyitk"
      },
      "execution_count": 11,
      "outputs": []
    },
    {
      "cell_type": "code",
      "source": [
        "#output layer\n",
        "cnn.add(tf.keras.layers.Dense(units=10,activation = 'softmax'))"
      ],
      "metadata": {
        "id": "HEIK8MqCyz4L"
      },
      "execution_count": 12,
      "outputs": []
    },
    {
      "cell_type": "markdown",
      "source": [
        "#Compiling and Training Phase"
      ],
      "metadata": {
        "id": "lOgF_nb_z0Hz"
      }
    },
    {
      "cell_type": "code",
      "source": [
        "cnn.compile(optimizer= 'rmsprop', loss='categorical_crossentropy', metrics=['accuracy'])\n"
      ],
      "metadata": {
        "id": "aYDRwrn0z8Lk"
      },
      "execution_count": 13,
      "outputs": []
    },
    {
      "cell_type": "code",
      "source": [
        "training_history = cnn.fit(x=training_set,validation_data=validation_set, epochs=30)"
      ],
      "metadata": {
        "colab": {
          "base_uri": "https://localhost:8080/"
        },
        "id": "5gPVseO90U7j",
        "outputId": "82ace0f0-593e-4d7a-fdfd-3240a0ad0bf3"
      },
      "execution_count": 14,
      "outputs": [
        {
          "output_type": "stream",
          "name": "stdout",
          "text": [
            "Epoch 1/30\n",
            "8/8 [==============================] - 64s 4s/step - loss: 137.3891 - accuracy: 0.1320 - val_loss: 2.2379 - val_accuracy: 0.2800\n",
            "Epoch 2/30\n",
            "8/8 [==============================] - 6s 729ms/step - loss: 2.2809 - accuracy: 0.2200 - val_loss: 1.5883 - val_accuracy: 0.5100\n",
            "Epoch 3/30\n",
            "8/8 [==============================] - 4s 401ms/step - loss: 1.7950 - accuracy: 0.4160 - val_loss: 1.5972 - val_accuracy: 0.5300\n",
            "Epoch 4/30\n",
            "8/8 [==============================] - 4s 407ms/step - loss: 2.2253 - accuracy: 0.3960 - val_loss: 1.1204 - val_accuracy: 0.6800\n",
            "Epoch 5/30\n",
            "8/8 [==============================] - 5s 487ms/step - loss: 1.3008 - accuracy: 0.5520 - val_loss: 0.8031 - val_accuracy: 0.8200\n",
            "Epoch 6/30\n",
            "8/8 [==============================] - 4s 445ms/step - loss: 3.2768 - accuracy: 0.5040 - val_loss: 3.2226 - val_accuracy: 0.3650\n",
            "Epoch 7/30\n",
            "8/8 [==============================] - 5s 586ms/step - loss: 1.2886 - accuracy: 0.6240 - val_loss: 0.5501 - val_accuracy: 0.8800\n",
            "Epoch 8/30\n",
            "8/8 [==============================] - 4s 454ms/step - loss: 0.9678 - accuracy: 0.7080 - val_loss: 2.3742 - val_accuracy: 0.5700\n",
            "Epoch 9/30\n",
            "8/8 [==============================] - 7s 786ms/step - loss: 9.2294 - accuracy: 0.4240 - val_loss: 0.9343 - val_accuracy: 0.7250\n",
            "Epoch 10/30\n",
            "8/8 [==============================] - 4s 398ms/step - loss: 1.0549 - accuracy: 0.7360 - val_loss: 0.3587 - val_accuracy: 0.9300\n",
            "Epoch 11/30\n",
            "8/8 [==============================] - 5s 523ms/step - loss: 0.4047 - accuracy: 0.8880 - val_loss: 0.2294 - val_accuracy: 0.9400\n",
            "Epoch 12/30\n",
            "8/8 [==============================] - 4s 447ms/step - loss: 0.7878 - accuracy: 0.8360 - val_loss: 0.2791 - val_accuracy: 0.9250\n",
            "Epoch 13/30\n",
            "8/8 [==============================] - 4s 445ms/step - loss: 0.4208 - accuracy: 0.8600 - val_loss: 0.2714 - val_accuracy: 0.9350\n",
            "Epoch 14/30\n",
            "8/8 [==============================] - 5s 478ms/step - loss: 0.5268 - accuracy: 0.8640 - val_loss: 0.2906 - val_accuracy: 0.9250\n",
            "Epoch 15/30\n",
            "8/8 [==============================] - 4s 446ms/step - loss: 0.6021 - accuracy: 0.8400 - val_loss: 2.4023 - val_accuracy: 0.5150\n",
            "Epoch 16/30\n",
            "8/8 [==============================] - 6s 639ms/step - loss: 24.5360 - accuracy: 0.3520 - val_loss: 2.9288 - val_accuracy: 0.6850\n",
            "Epoch 17/30\n",
            "8/8 [==============================] - 4s 442ms/step - loss: 0.7988 - accuracy: 0.8480 - val_loss: 0.0889 - val_accuracy: 0.9900\n",
            "Epoch 18/30\n",
            "8/8 [==============================] - 4s 442ms/step - loss: 0.1716 - accuracy: 0.9480 - val_loss: 0.2779 - val_accuracy: 0.9300\n",
            "Epoch 19/30\n",
            "8/8 [==============================] - 5s 602ms/step - loss: 0.1898 - accuracy: 0.9480 - val_loss: 0.0455 - val_accuracy: 0.9950\n",
            "Epoch 20/30\n",
            "8/8 [==============================] - 4s 413ms/step - loss: 0.1786 - accuracy: 0.9720 - val_loss: 0.1596 - val_accuracy: 0.9400\n",
            "Epoch 21/30\n",
            "8/8 [==============================] - 5s 539ms/step - loss: 0.1479 - accuracy: 0.9640 - val_loss: 0.1056 - val_accuracy: 0.9700\n",
            "Epoch 22/30\n",
            "8/8 [==============================] - 5s 623ms/step - loss: 5.1419 - accuracy: 0.6400 - val_loss: 0.1195 - val_accuracy: 0.9600\n",
            "Epoch 23/30\n",
            "8/8 [==============================] - 4s 418ms/step - loss: 0.1638 - accuracy: 0.9680 - val_loss: 0.0478 - val_accuracy: 0.9950\n",
            "Epoch 24/30\n",
            "8/8 [==============================] - 4s 441ms/step - loss: 0.1433 - accuracy: 0.9760 - val_loss: 0.0733 - val_accuracy: 0.9900\n",
            "Epoch 25/30\n",
            "8/8 [==============================] - 6s 736ms/step - loss: 0.1821 - accuracy: 0.9560 - val_loss: 0.1109 - val_accuracy: 0.9650\n",
            "Epoch 26/30\n",
            "8/8 [==============================] - 4s 418ms/step - loss: 0.6806 - accuracy: 0.8720 - val_loss: 1.1815 - val_accuracy: 0.7900\n",
            "Epoch 27/30\n",
            "8/8 [==============================] - 5s 468ms/step - loss: 0.8126 - accuracy: 0.8880 - val_loss: 0.0529 - val_accuracy: 0.9900\n",
            "Epoch 28/30\n",
            "8/8 [==============================] - 4s 407ms/step - loss: 0.1361 - accuracy: 0.9640 - val_loss: 0.0333 - val_accuracy: 1.0000\n",
            "Epoch 29/30\n",
            "8/8 [==============================] - 6s 698ms/step - loss: 0.3493 - accuracy: 0.9400 - val_loss: 16.7459 - val_accuracy: 0.3250\n",
            "Epoch 30/30\n",
            "8/8 [==============================] - 4s 445ms/step - loss: 23.0665 - accuracy: 0.4920 - val_loss: 0.0622 - val_accuracy: 0.9850\n"
          ]
        }
      ]
    },
    {
      "cell_type": "markdown",
      "source": [
        "# Saving Model"
      ],
      "metadata": {
        "id": "PIuQvCHY18Vp"
      }
    },
    {
      "cell_type": "code",
      "source": [
        "cnn.save('trained_model.h5')"
      ],
      "metadata": {
        "id": "h2Ky9WmG1_ZU",
        "colab": {
          "base_uri": "https://localhost:8080/"
        },
        "outputId": "00987869-f642-4a63-9379-6d6cbe977943"
      },
      "execution_count": 15,
      "outputs": [
        {
          "output_type": "stream",
          "name": "stderr",
          "text": [
            "/usr/local/lib/python3.10/dist-packages/keras/src/engine/training.py:3103: UserWarning: You are saving your model as an HDF5 file via `model.save()`. This file format is considered legacy. We recommend using instead the native Keras format, e.g. `model.save('my_model.keras')`.\n",
            "  saving_api.save_model(\n"
          ]
        }
      ]
    },
    {
      "cell_type": "code",
      "source": [
        "training_history.history  #Return Dictionary Of History"
      ],
      "metadata": {
        "colab": {
          "base_uri": "https://localhost:8080/"
        },
        "id": "Eb0kit2q2kAo",
        "outputId": "856a7acb-6433-4009-b60e-04cb728a30b1"
      },
      "execution_count": 16,
      "outputs": [
        {
          "output_type": "execute_result",
          "data": {
            "text/plain": [
              "{'loss': [137.38909912109375,\n",
              "  2.28090763092041,\n",
              "  1.7950248718261719,\n",
              "  2.2253448963165283,\n",
              "  1.3008489608764648,\n",
              "  3.2767930030822754,\n",
              "  1.2886475324630737,\n",
              "  0.9678362607955933,\n",
              "  9.229440689086914,\n",
              "  1.054850697517395,\n",
              "  0.4047384560108185,\n",
              "  0.7877888083457947,\n",
              "  0.42083466053009033,\n",
              "  0.5268176198005676,\n",
              "  0.6020881533622742,\n",
              "  24.535968780517578,\n",
              "  0.7988458275794983,\n",
              "  0.1715870499610901,\n",
              "  0.1898185759782791,\n",
              "  0.17862491309642792,\n",
              "  0.14785705506801605,\n",
              "  5.141854286193848,\n",
              "  0.16384418308734894,\n",
              "  0.14330632984638214,\n",
              "  0.18206632137298584,\n",
              "  0.680635392665863,\n",
              "  0.8126302361488342,\n",
              "  0.13605643808841705,\n",
              "  0.3492647111415863,\n",
              "  23.06647300720215],\n",
              " 'accuracy': [0.13199999928474426,\n",
              "  0.2199999988079071,\n",
              "  0.41600000858306885,\n",
              "  0.3959999978542328,\n",
              "  0.5519999861717224,\n",
              "  0.5040000081062317,\n",
              "  0.6240000128746033,\n",
              "  0.7080000042915344,\n",
              "  0.42399999499320984,\n",
              "  0.7360000014305115,\n",
              "  0.8880000114440918,\n",
              "  0.8360000252723694,\n",
              "  0.8600000143051147,\n",
              "  0.8640000224113464,\n",
              "  0.8399999737739563,\n",
              "  0.35199999809265137,\n",
              "  0.8479999899864197,\n",
              "  0.9480000138282776,\n",
              "  0.9480000138282776,\n",
              "  0.972000002861023,\n",
              "  0.9639999866485596,\n",
              "  0.6399999856948853,\n",
              "  0.9679999947547913,\n",
              "  0.9760000109672546,\n",
              "  0.9559999704360962,\n",
              "  0.871999979019165,\n",
              "  0.8880000114440918,\n",
              "  0.9639999866485596,\n",
              "  0.9399999976158142,\n",
              "  0.492000013589859],\n",
              " 'val_loss': [2.2378978729248047,\n",
              "  1.588309645652771,\n",
              "  1.5972132682800293,\n",
              "  1.1203713417053223,\n",
              "  0.8030999898910522,\n",
              "  3.222635269165039,\n",
              "  0.550066351890564,\n",
              "  2.3741986751556396,\n",
              "  0.934309184551239,\n",
              "  0.3587084710597992,\n",
              "  0.2293628305196762,\n",
              "  0.279116690158844,\n",
              "  0.27139952778816223,\n",
              "  0.29062867164611816,\n",
              "  2.402334213256836,\n",
              "  2.9288251399993896,\n",
              "  0.08894123136997223,\n",
              "  0.2779020071029663,\n",
              "  0.04547513648867607,\n",
              "  0.15955039858818054,\n",
              "  0.10558397322893143,\n",
              "  0.11948282271623611,\n",
              "  0.04775084927678108,\n",
              "  0.07330724596977234,\n",
              "  0.11092478036880493,\n",
              "  1.1814898252487183,\n",
              "  0.05285823345184326,\n",
              "  0.03329605981707573,\n",
              "  16.745880126953125,\n",
              "  0.06223107501864433],\n",
              " 'val_accuracy': [0.2800000011920929,\n",
              "  0.5099999904632568,\n",
              "  0.5299999713897705,\n",
              "  0.6800000071525574,\n",
              "  0.8199999928474426,\n",
              "  0.36500000953674316,\n",
              "  0.8799999952316284,\n",
              "  0.5699999928474426,\n",
              "  0.7250000238418579,\n",
              "  0.9300000071525574,\n",
              "  0.9399999976158142,\n",
              "  0.925000011920929,\n",
              "  0.9350000023841858,\n",
              "  0.925000011920929,\n",
              "  0.5149999856948853,\n",
              "  0.6850000023841858,\n",
              "  0.9900000095367432,\n",
              "  0.9300000071525574,\n",
              "  0.9950000047683716,\n",
              "  0.9399999976158142,\n",
              "  0.9700000286102295,\n",
              "  0.9599999785423279,\n",
              "  0.9950000047683716,\n",
              "  0.9900000095367432,\n",
              "  0.9649999737739563,\n",
              "  0.7900000214576721,\n",
              "  0.9900000095367432,\n",
              "  1.0,\n",
              "  0.32499998807907104,\n",
              "  0.9850000143051147]}"
            ]
          },
          "metadata": {},
          "execution_count": 16
        }
      ]
    },
    {
      "cell_type": "code",
      "source": [
        "#Recording History in json\n",
        "import json\n",
        "with open('training_hist.json', 'w') as f:\n",
        "  json.dump(training_history.history,f)"
      ],
      "metadata": {
        "id": "iKqAea4u2PaY"
      },
      "execution_count": 17,
      "outputs": []
    },
    {
      "cell_type": "code",
      "source": [
        "print(training_history.history.keys())\n"
      ],
      "metadata": {
        "colab": {
          "base_uri": "https://localhost:8080/"
        },
        "id": "YjOMt1fH3UDn",
        "outputId": "3c0af7be-754b-4470-bdd9-31bf6e6cdfe6"
      },
      "execution_count": 18,
      "outputs": [
        {
          "output_type": "stream",
          "name": "stdout",
          "text": [
            "dict_keys(['loss', 'accuracy', 'val_loss', 'val_accuracy'])\n"
          ]
        }
      ]
    },
    {
      "cell_type": "markdown",
      "source": [
        "# Calculating Accuracy of Model on Validation Set"
      ],
      "metadata": {
        "id": "ZqWnAygA3cHA"
      }
    },
    {
      "cell_type": "code",
      "source": [
        "print(\"Validation set Accuracy: {} % \".format(training_history.history['val_accuracy'][-1]*100))"
      ],
      "metadata": {
        "colab": {
          "base_uri": "https://localhost:8080/"
        },
        "id": "vFMc4hYC3jA2",
        "outputId": "cc1673ae-758e-43df-eef8-1a97475b8bae"
      },
      "execution_count": 19,
      "outputs": [
        {
          "output_type": "stream",
          "name": "stdout",
          "text": [
            "Validation set Accuracy: 98.50000143051147 % \n"
          ]
        }
      ]
    },
    {
      "cell_type": "markdown",
      "source": [
        "# Accuracy Visualization"
      ],
      "metadata": {
        "id": "AH4EV9E_5R1s"
      }
    },
    {
      "cell_type": "code",
      "source": [
        "epochs = [i for i in range(1,31)]\n",
        "plt.plot(epochs,training_history.history['accuracy'], color='red')\n",
        "plt.xlabel('No. of Epochs')\n",
        "plt.ylabel('Training Accuracy')\n",
        "plt.title('Visualization Of Training Accuracy Result')\n",
        "plt.show()"
      ],
      "metadata": {
        "colab": {
          "base_uri": "https://localhost:8080/",
          "height": 472
        },
        "id": "Fbts4Gnw5OOk",
        "outputId": "1f0ee036-d69f-4565-bc04-5e7c11622b42"
      },
      "execution_count": 20,
      "outputs": [
        {
          "output_type": "display_data",
          "data": {
            "text/plain": [
              "<Figure size 640x480 with 1 Axes>"
            ],
            "image/png": "[encoded data removed]"
          },
          "metadata": {}
        }
      ]
    },
    {
      "cell_type": "markdown",
      "source": [
        "# Validation Accuracy"
      ],
      "metadata": {
        "id": "fZSYuA2h7F3h"
      }
    },
    {
      "cell_type": "code",
      "source": [
        "plt.plot(epochs,training_history.history['val_accuracy'], color='blue')\n",
        "plt.xlabel('No. Of Epochs')\n",
        "plt.ylabel('Validation Accuracy')\n",
        "plt.title('Visualization Of Validation Accuracy Result')\n",
        "plt.show()"
      ],
      "metadata": {
        "colab": {
          "base_uri": "https://localhost:8080/",
          "height": 472
        },
        "id": "FvMpHQNS7L4i",
        "outputId": "484c1493-708a-4b67-a8d3-19da9b0da487"
      },
      "execution_count": 21,
      "outputs": [
        {
          "output_type": "display_data",
          "data": {
            "text/plain": [
              "<Figure size 640x480 with 1 Axes>"
            ],
            "image/png": "[encoded data removed]"
          },
          "metadata": {}
        }
      ]
    }
  ]
}